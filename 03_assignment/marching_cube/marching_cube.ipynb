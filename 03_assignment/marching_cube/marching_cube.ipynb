{
 "cells": [
  {
   "cell_type": "code",
   "execution_count": 1,
   "metadata": {},
   "outputs": [],
   "source": [
    "import numpy as np\n",
    "from lookup_table import CaseNum2EdgeOffset, getCaseNum\n",
    "import trimesh\n",
    "import os\n",
    "import time\n",
    "import tqdm"
   ]
  },
  {
   "cell_type": "code",
   "execution_count": 6,
   "metadata": {},
   "outputs": [],
   "source": [
    "def marching_cube(thres,cells):\n",
    "    # vertices use dictionary to avoid duplicate axes\n",
    "    vertex_array = {}\n",
    "    face_array = []\n",
    "    t1 = time.time()\n",
    "    # -------------------TODO------------------ \n",
    "    # compute vertices and faces\n",
    "    # vertices: [N, 3]\n",
    "    # faces: [M, 3], e.g. np.array([[0,1,2]]) means a triangle composed of vertices[0], vertices[1] and vertices[2]\n",
    "    # for-loop is allowed to reduce difficulty\n",
    "    # -------------------TODO------------------ \n",
    "\n",
    "    vertex_cnt = 0\n",
    "\n",
    "    for x in tqdm.tqdm(range(cells.shape[0]-1)):\n",
    "        for y in range(cells.shape[1]-1):\n",
    "            for z in range(cells.shape[2]-1):\n",
    "                cases = getCaseNum(x, y, z, thres, cells)\n",
    "                temp_vertices = []\n",
    "                for i, case_num in enumerate(cases):\n",
    "                    if case_num == -1:\n",
    "                        break\n",
    "                    corner_1 = (x+CaseNum2EdgeOffset[case_num][0],y+CaseNum2EdgeOffset[case_num][1],z+CaseNum2EdgeOffset[case_num][2])\n",
    "                    corner_2 = (x+CaseNum2EdgeOffset[case_num][3],y+CaseNum2EdgeOffset[case_num][4],z+CaseNum2EdgeOffset[case_num][5])\n",
    "                    # use linear interpolation to compute the intersection point\n",
    "                    val1, val2 = cells[corner_1], cells[corner_2]\n",
    "                    corner_1, corner_2 = np.array(corner_1), np.array(corner_2)\n",
    "                    _lambda = (thres-val1)/(val2-val1)\n",
    "                    intersection = np.array(corner_1) + _lambda*np.array(corner_2-corner_1)\n",
    "                    # add intersection to vertex_array\n",
    "                    intersection = tuple(intersection)\n",
    "                    if intersection not in vertex_array:\n",
    "                        vertex_array[intersection] = vertex_cnt\n",
    "                        vertex_cnt += 1\n",
    "                    temp_vertices.append(vertex_array[intersection])\n",
    "\n",
    "                    # add face to face_array\n",
    "                    if i % 3 == 2:\n",
    "                        assert len(temp_vertices) == 3\n",
    "                        face_array.append(tuple(temp_vertices))\n",
    "                        temp_vertices = []\n",
    "       \n",
    "    # extract vertices from dictionary\n",
    "\n",
    "    vertex_array = list(vertex_array.items())\n",
    "    vertex_array = sorted(vertex_array, key=lambda x: x[1])\n",
    "    vertex_array = [x[0] for x in vertex_array]\n",
    "\n",
    "    t2 = time.time()\n",
    "    print(\"\\nTime taken by algorithm\\n\"+'-'*40+\"\\n{} s\".format(t2-t1))\n",
    "    return np.array(vertex_array), np.array(face_array)"
   ]
  },
  {
   "cell_type": "code",
   "execution_count": 7,
   "metadata": {},
   "outputs": [
    {
     "name": "stderr",
     "output_type": "stream",
     "text": [
      "100%|██████████| 63/63 [00:02<00:00, 31.23it/s]\n"
     ]
    },
    {
     "name": "stdout",
     "output_type": "stream",
     "text": [
      "\n",
      "Time taken by algorithm\n",
      "----------------------------------------\n",
      "2.029773235321045 s\n"
     ]
    },
    {
     "name": "stderr",
     "output_type": "stream",
     "text": [
      "100%|██████████| 63/63 [00:02<00:00, 30.48it/s]"
     ]
    },
    {
     "name": "stdout",
     "output_type": "stream",
     "text": [
      "\n",
      "Time taken by algorithm\n",
      "----------------------------------------\n",
      "2.069071054458618 s\n"
     ]
    },
    {
     "name": "stderr",
     "output_type": "stream",
     "text": [
      "\n"
     ]
    }
   ],
   "source": [
    "# reconstruct these two animals\n",
    "shape_name_lst = ['spot', 'bob']\n",
    "for shape_name in shape_name_lst:\n",
    "    data = np.load(os.path.join('data', shape_name + '_cell.npy'))\n",
    "    verts, faces = marching_cube(0, data)\n",
    "    mesh = trimesh.Trimesh(vertices=verts, faces=faces)\n",
    "    mesh_txt = trimesh.exchange.obj.export_obj(mesh)\n",
    "    with open(os.path.join('../results', shape_name + '.obj'),\"w\") as fp:\n",
    "        fp.write(mesh_txt)"
   ]
  }
 ],
 "metadata": {
  "interpreter": {
   "hash": "436b5965732ccf282764bcf9546f770885eff9f048ad24ec0c34e8c61e883580"
  },
  "kernelspec": {
   "display_name": "Python 3.7.4 ('base')",
   "language": "python",
   "name": "python3"
  },
  "language_info": {
   "codemirror_mode": {
    "name": "ipython",
    "version": 3
   },
   "file_extension": ".py",
   "mimetype": "text/x-python",
   "name": "python",
   "nbconvert_exporter": "python",
   "pygments_lexer": "ipython3",
   "version": "3.9.13"
  },
  "orig_nbformat": 4
 },
 "nbformat": 4,
 "nbformat_minor": 2
}
