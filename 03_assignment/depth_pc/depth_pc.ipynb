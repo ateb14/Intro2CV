{
 "cells": [
  {
   "cell_type": "code",
   "execution_count": 2,
   "metadata": {},
   "outputs": [],
   "source": [
    "import numpy as np\n",
    "import cv2"
   ]
  },
  {
   "cell_type": "code",
   "execution_count": 3,
   "metadata": {},
   "outputs": [
    {
     "name": "stdout",
     "output_type": "stream",
     "text": [
      "[[415.69219382   0.         320.        ]\n",
      " [  0.         415.69219382 240.        ]\n",
      " [  0.           0.           1.        ]]\n"
     ]
    }
   ],
   "source": [
    "# read depth image\n",
    "depth_scale = 0.00012498664727900177\n",
    "depth_img = cv2.imread('depth.png')\n",
    "dpt = depth_img[:, :, 2] + depth_img[:, :, 1] * 256\n",
    "dpt = dpt * depth_scale\n",
    "\n",
    "# read seg image\n",
    "seg = cv2.imread('seg.png')[...,0]  # 255: fore ground, 0: background\n",
    "\n",
    "# read intrinsics and extrinsics\n",
    "K = np.load('intrinsic.npy')\n",
    "print(K)"
   ]
  },
  {
   "cell_type": "code",
   "execution_count": 4,
   "metadata": {},
   "outputs": [],
   "source": [
    "# task1: convert depth image to point cloud\n",
    "def depth2pc(depth, seg, K):\n",
    "    # ------------TODO---------------\n",
    "    # compute point cloud from depth image\n",
    "    # for-loop is not allowed!!\n",
    "    # ------------TODO --------------\n",
    "\n",
    "    # P'(idx) = K[R T]P\n",
    "\n",
    "    # get the indices of the foreground\n",
    "    idx = np.where(seg == 255)\n",
    "    depth = depth[idx]\n",
    "    # row: y, col: x, to homogenous coordinates\n",
    "    points_2d = np.array([idx[1], idx[0], np.ones(len(idx[0]))])\n",
    "    pc = ((np.linalg.inv(K) @ points_2d) * depth).transpose()\n",
    "\n",
    "\n",
    "    return pc\n",
    "\n",
    "partial_pc = depth2pc(dpt, seg, K)\n",
    "\n",
    "# For debug and submission\n",
    "np.savetxt('../results/pc_from_depth.txt', partial_pc)"
   ]
  },
  {
   "cell_type": "code",
   "execution_count": 5,
   "metadata": {},
   "outputs": [
    {
     "name": "stdout",
     "output_type": "stream",
     "text": [
      "one way chamfer distance:  [0.010361562561977865]\n"
     ]
    }
   ],
   "source": [
    "# task2: compute one-way chamfer distance to the complete shape\n",
    "full_pc = np.loadtxt('aligned_full_pc.txt')\n",
    "\n",
    "def random_sample(pc, num):\n",
    "    permu = np.random.permutation(pc.shape[0])\n",
    "    return pc[permu][:num]\n",
    "\n",
    "partial_pc_sampled = random_sample(partial_pc, 2048)\n",
    "full_pc_sampled = random_sample(full_pc, 2048)\n",
    "\n",
    "# -----------TODO---------------\n",
    "# implement one way chamfer distance\n",
    "# -----------TODO---------------\n",
    "\n",
    "# compute the distance from each point in partial_pc to full_pc\n",
    "# and take the minimum\n",
    "# print(partial_pc_sampled[:,None])\n",
    "# (N, 1, 3) - (N, 3), Using broadcast to compute the minimum distance in tensor style\n",
    "one_way_CD = np.min(np.linalg.norm(partial_pc_sampled[:, None] - full_pc_sampled, axis=-1), axis=1)\n",
    "one_way_CD = [np.sum(one_way_CD) / one_way_CD.shape[0]]\n",
    "print('one way chamfer distance: ', one_way_CD)\n",
    "\n",
    "# For submission\n",
    "np.savetxt('../results/one_way_CD.txt', one_way_CD)"
   ]
  }
 ],
 "metadata": {
  "interpreter": {
   "hash": "b4ffbbff3239a731f5036eedf271342b6e0256ecf54d21a0ffa848ef6f1f16b8"
  },
  "kernelspec": {
   "display_name": "Python 3.8.8 ('base')",
   "language": "python",
   "name": "python3"
  },
  "language_info": {
   "codemirror_mode": {
    "name": "ipython",
    "version": 3
   },
   "file_extension": ".py",
   "mimetype": "text/x-python",
   "name": "python",
   "nbconvert_exporter": "python",
   "pygments_lexer": "ipython3",
   "version": "3.9.13"
  },
  "orig_nbformat": 4
 },
 "nbformat": 4,
 "nbformat_minor": 2
}
