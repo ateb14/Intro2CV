{
 "cells": [
  {
   "cell_type": "code",
   "execution_count": 19,
   "metadata": {},
   "outputs": [],
   "source": [
    "import numpy as np\n",
    "import trimesh\n",
    "import tqdm "
   ]
  },
  {
   "cell_type": "code",
   "execution_count": 5,
   "metadata": {},
   "outputs": [],
   "source": [
    "def uniform_sampling_from_mesh(vertices, faces, sample_num):\n",
    "    # -------- TODO -----------\n",
    "    # 1. compute area of each triangles\n",
    "    # 2. compute probability of each triangles from areas\n",
    "    # 3. sample N faces according to the probability\n",
    "    # 4. for each face, sample 1 point\n",
    "    # Note that FOR-LOOP is not allowed!\n",
    "    # -------- TODO -----------\n",
    "    return area, prob, uniform_pc\n",
    "        "
   ]
  },
  {
   "cell_type": "code",
   "execution_count": 22,
   "metadata": {},
   "outputs": [],
   "source": [
    "def farthest_point_sampling(pc, sample_num):\n",
    "    # -------- TODO -----------\n",
    "    # FOR LOOP is allowed here.\n",
    "    # -------- TODO -----------\n",
    "\n",
    "    return results"
   ]
  },
  {
   "cell_type": "code",
   "execution_count": 30,
   "metadata": {},
   "outputs": [
    {
     "name": "stdout",
     "output_type": "stream",
     "text": [
      "faces shape:  (13712, 3)\n",
      "area shape:  (13712,)\n",
      "prob shape:  (13712,)\n",
      "pc shape:  (512, 3)\n"
     ]
    }
   ],
   "source": [
    "# task 1: uniform sampling \n",
    "\n",
    "obj_path = 'spot.obj'\n",
    "mesh = trimesh.load(obj_path)\n",
    "print('faces shape: ', mesh.faces.shape)\n",
    "sample_num = 512\n",
    "area, prob, uniform_pc = uniform_sampling_from_mesh(mesh.vertices, mesh.faces, sample_num)\n",
    "\n",
    "# Visualization. For you to check your code\n",
    "np.savetxt('uniform_sampling_vis.txt', uniform_pc)\n",
    "\n",
    "print('area shape: ',area.shape)\n",
    "print('prob shape: ',prob.shape)\n",
    "print('pc shape: ',uniform_pc.shape)\n",
    "# the result should satisfy: \n",
    "#       area.shape = (13712, ) \n",
    "#       prob.shape = (13712, ) \n",
    "#       uniform_pc.shape = (512, 3) \n",
    "\n",
    "# For submission\n",
    "save_dict = {'area': area, 'prob': prob, 'pc': uniform_pc}\n",
    "np.save('../results/uniform_sampling_results', save_dict)"
   ]
  },
  {
   "cell_type": "code",
   "execution_count": 31,
   "metadata": {},
   "outputs": [
    {
     "name": "stderr",
     "output_type": "stream",
     "text": [
      "100%|██████████| 512/512 [00:14<00:00, 35.25it/s] \n"
     ]
    }
   ],
   "source": [
    "# task 2: FPS\n",
    "\n",
    "init_sample_num = 2000\n",
    "final_sample_num = 512\n",
    "_,_, tmp_pc = uniform_sampling_from_mesh(mesh.vertices, mesh.faces, init_sample_num)\n",
    "fps_pc = farthest_point_sampling(tmp_pc, final_sample_num)\n",
    "\n",
    "# Visualization. For you to check your code\n",
    "np.savetxt('fps_vis.txt', fps_pc)\n",
    "\n",
    "# For submission\n",
    "np.save('../results/fps_results', fps_pc)"
   ]
  },
  {
   "cell_type": "code",
   "execution_count": 3,
   "metadata": {},
   "outputs": [],
   "source": [
    "# task 3: metrics\n",
    "\n",
    "from earthmover.earthmover import earthmover_distance   # EMD may be very slow (1~2mins)\n",
    "# -----------TODO---------------\n",
    "# compute chamfer distance and EMD for two point clouds sampled by uniform sampling and FPS.\n",
    "# sample and compute CD and EMD again. repeat for five times.\n",
    "# save the mean and var.\n",
    "# -----------TODO---------------\n",
    "\n",
    "CD_mean = 0\n",
    "CD_var = 0\n",
    "EMD_mean = 0\n",
    "EMD_var = 0\n",
    "\n",
    "# For submission\n",
    "np.save('../results/metrics', {'CD_mean':CD_mean, 'CD_var':CD_var, 'EMD_mean':EMD_mean, 'EMD_var':EMD_var})"
   ]
  }
 ],
 "metadata": {
  "interpreter": {
   "hash": "b99e030e7d8517218fe5297eb937f74701cfa6fd19eb7299fb48d65d491617c9"
  },
  "kernelspec": {
   "display_name": "Python 3.7.11 ('h2o')",
   "language": "python",
   "name": "python3"
  },
  "language_info": {
   "codemirror_mode": {
    "name": "ipython",
    "version": 3
   },
   "file_extension": ".py",
   "mimetype": "text/x-python",
   "name": "python",
   "nbconvert_exporter": "python",
   "pygments_lexer": "ipython3",
   "version": "3.7.4"
  },
  "orig_nbformat": 4
 },
 "nbformat": 4,
 "nbformat_minor": 2
}
